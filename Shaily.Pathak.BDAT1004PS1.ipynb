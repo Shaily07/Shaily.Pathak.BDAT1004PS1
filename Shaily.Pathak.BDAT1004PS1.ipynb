{
 "cells": [
  {
   "cell_type": "markdown",
   "id": "21b6bc97",
   "metadata": {},
   "source": [
    "Question 1\n",
    "Question 1 C# What data type is each of the following?\n",
    "\n",
    "Ans: 5 -- Integer 5.0 -- Float 5 > 1 -- Boolean '5' -- Character 5 2 -- Integer '5' 2 -- string '5' + '2' -- string 5 / 2 -- integer 5 % 2 -- integer {5, 2, 1} -- Array 5 == 3 --Boolean Pi (the number) -- Float"
   ]
  },
  {
   "cell_type": "code",
   "execution_count": 14,
   "id": "4d00b1a1",
   "metadata": {},
   "outputs": [
    {
     "name": "stdout",
     "output_type": "stream",
     "text": [
      "5 is type of <class 'int'>\n",
      "5.0 is type of <class 'float'>\n",
      "True is type of <class 'bool'>\n",
      "5 is type of <class 'str'>\n",
      "10 is type of <class 'int'>\n",
      "55 is type of <class 'str'>\n",
      "52 is type of <class 'str'>\n",
      "2.5 is type of <class 'float'>\n",
      "1 is type of <class 'int'>\n",
      "{1, 2, 5} is type of <class 'set'>\n",
      "False is type of <class 'bool'>\n"
     ]
    }
   ],
   "source": [
    "a=5\n",
    "print(a,\"is type of\", type(a))\n",
    "\n",
    "b=5.0\n",
    "print(b,\"is type of\", type(b))\n",
    "\n",
    "c=5>1\n",
    "print(c,\"is type of\", type(c))\n",
    "\n",
    "d='5'\n",
    "print(d,\"is type of\", type(d))\n",
    "\n",
    "e=5*2\n",
    "print(e,\"is type of\", type(e))\n",
    "\n",
    "f='5' * 2\n",
    "print(f,\"is type of\", type(f))\n",
    "\n",
    "g='5' + '2'\n",
    "print(g,\"is type of\", type(g))\n",
    "\n",
    "h=5/2\n",
    "print(h,\"is type of\", type(h))\n",
    "\n",
    "i=5%2\n",
    "print(i,\"is type of\", type(i))\n",
    "\n",
    "j={5,2,1}\n",
    "print(j,\"is type of\", type(j))\n",
    "\n",
    "k= 5==3\n",
    "print(k,\"is type of\", type(k))\n"
   ]
  },
  {
   "cell_type": "markdown",
   "id": "62696e04",
   "metadata": {},
   "source": [
    "Question 2 C#\n",
    "Write (and evaluate) C# expressions that answer these questions:\n",
    "\n",
    "a. How many letters are there in 'Supercalifragilisticexpialidocious'?"
   ]
  },
  {
   "cell_type": "code",
   "execution_count": 3,
   "id": "9a8fe975",
   "metadata": {},
   "outputs": [
    {
     "name": "stdout",
     "output_type": "stream",
     "text": [
      "Lenght of the word 34\n"
     ]
    }
   ],
   "source": [
    "W='Supercalifragilisticexpialidocious'\n",
    "print('Lenght of the word', len(W))\n"
   ]
  },
  {
   "cell_type": "markdown",
   "id": "cb554474",
   "metadata": {},
   "source": [
    "b. Does 'Supercalifragilisticexpialidocious' contain 'ice' as a substring?"
   ]
  },
  {
   "cell_type": "code",
   "execution_count": 7,
   "id": "72da46b2",
   "metadata": {},
   "outputs": [
    {
     "name": "stdout",
     "output_type": "stream",
     "text": [
      "True\n"
     ]
    }
   ],
   "source": [
    "print('ice' in W)"
   ]
  },
  {
   "cell_type": "markdown",
   "id": "473a0b61",
   "metadata": {},
   "source": [
    "c. Which of the following words is the longest:Supercalifragilisticexpialidocious, Honorificabilitudinitatibus, or Bababadalgharaghtakamminarronnkonn?"
   ]
  },
  {
   "cell_type": "code",
   "execution_count": 23,
   "id": "aa63b3f0",
   "metadata": {},
   "outputs": [
    {
     "name": "stdout",
     "output_type": "stream",
     "text": [
      "Supercalifragilisticexpialidocious\n"
     ]
    }
   ],
   "source": [
    "word=['Supercalifragilisticexpialidocious','Honorificabilitudinitatibus','Bababadalgharaghtakamminarronnkonn']\n",
    "print(max(word))"
   ]
  },
  {
   "cell_type": "markdown",
   "id": "86bc0063",
   "metadata": {},
   "source": [
    "d. Which composer comes first in the dictionary: 'Berlioz', 'Borodin', 'Brian', \n",
    "'Bartok', 'Bellini', 'Buxtehude', 'Bernstein'. Which one comes last?"
   ]
  },
  {
   "cell_type": "code",
   "execution_count": 26,
   "id": "e917eab0",
   "metadata": {},
   "outputs": [
    {
     "name": "stdout",
     "output_type": "stream",
     "text": [
      "Print first composer: Bartok\n",
      "Print last composer: Buxtehude\n"
     ]
    }
   ],
   "source": [
    "composers = ['Berlioz', 'Borodin', 'Brian', 'Bartok', 'Bellini', 'Buxtehude', 'Bernstein']\n",
    "composers.sort()\n",
    "print('Print first composer:', composers[0])\n",
    "print('Print last composer:', composers[6])"
   ]
  },
  {
   "cell_type": "markdown",
   "id": "449b7fc8",
   "metadata": {},
   "source": [
    "Question 3\n",
    "Implement function triangleArea(a,b,c) that takes as input the lengths of the 3 sides of a triangle and returns the area of the triangle. By Heron's formula, the area of a triangle with side lengths a, b, and c is s(s - a)(s -b)(s - c), where s = (a +b +c)/2"
   ]
  },
  {
   "cell_type": "code",
   "execution_count": 31,
   "id": "7c19ea2d",
   "metadata": {},
   "outputs": [
    {
     "name": "stdout",
     "output_type": "stream",
     "text": [
      "Enter length oftringle side a:2\n",
      "Enter length oftringle side b:2\n",
      "Enter length oftringle side c:2\n",
      "Area of Triangle is: 1.732051\n"
     ]
    }
   ],
   "source": [
    "import math\n",
    "a=float(input('Enter length of tringle side a:'))\n",
    "b=float(input('Enter length of tringle side b:'))\n",
    "c=float(input('Enter length of tringle side c:'))\n",
    "\n",
    "s=(a+b+c)/2\n",
    "area=math.sqrt(s*(s-a)*(s-b)*(s-c))\n",
    "print('Area of Triangle is: %3f' %area)"
   ]
  },
  {
   "cell_type": "markdown",
   "id": "3ad2c814",
   "metadata": {},
   "source": [
    "Question 4\n",
    "Write a program in python Sharp to separate odd and even integers in separate arrays. Go to the editor Test Data : Input the number of elements to be stored in the array :5 Input 5 elements in the array : element - 0 : 25 element - 1 : 47 element - 2 : 42 element - 3 : 56 element - 4 : 32 Expected Output: The Even elements are: 42 56 32 The Odd elements are : 25 47"
   ]
  },
  {
   "cell_type": "code",
   "execution_count": 4,
   "id": "a1c2a5cc",
   "metadata": {},
   "outputs": [],
   "source": [
    "def splitevenodd(number):\n",
    "    even=[]\n",
    "    odd=[]\n",
    "    \n",
    "    for i in number:\n",
    "        if(i%2==0):\n",
    "            even.append(i)\n",
    "        else:\n",
    "            odd.append(i)\n",
    "    print(\"The Even Elements are:\",even)\n",
    "    print(\"The Odd Elements are:\",odd)\n"
   ]
  },
  {
   "cell_type": "code",
   "execution_count": 5,
   "id": "c06f66ba",
   "metadata": {},
   "outputs": [
    {
     "name": "stdout",
     "output_type": "stream",
     "text": [
      "The Even Elements are: [42, 56, 32]\n",
      "The Odd Elements are: [25, 47]\n"
     ]
    }
   ],
   "source": [
    "number=[25,47,42,56,32]\n",
    "splitevenodd(number)"
   ]
  },
  {
   "cell_type": "markdown",
   "id": "c718947b",
   "metadata": {},
   "source": [
    "Question 5\n",
    "a. Write a function inside(x,y,x1,y1,x2,y2) that returns True or False \n",
    "depending on whether the point (x,y) lies in the rectangle with lower left \n",
    "corner (x1,y1) and upper right corner (x2,y2)."
   ]
  },
  {
   "cell_type": "code",
   "execution_count": 27,
   "id": "c5c91f2a",
   "metadata": {},
   "outputs": [],
   "source": [
    "def inside(x,y,x1,y1,x2,y2):\n",
    "    if(x>x1 and x<x2 and y>y1 and y<y2):\n",
    "        return True\n",
    "    else:\n",
    "        return False"
   ]
  },
  {
   "cell_type": "code",
   "execution_count": 28,
   "id": "61e55157",
   "metadata": {},
   "outputs": [
    {
     "data": {
      "text/plain": [
       "True"
      ]
     },
     "execution_count": 28,
     "metadata": {},
     "output_type": "execute_result"
    }
   ],
   "source": [
    "inside(1,1,0,0,2,3)"
   ]
  },
  {
   "cell_type": "code",
   "execution_count": 29,
   "id": "0ba365b2",
   "metadata": {},
   "outputs": [
    {
     "data": {
      "text/plain": [
       "False"
      ]
     },
     "execution_count": 29,
     "metadata": {},
     "output_type": "execute_result"
    }
   ],
   "source": [
    "inside(-1,-1,0,0,2,3)"
   ]
  },
  {
   "cell_type": "markdown",
   "id": "5de8a757",
   "metadata": {},
   "source": [
    "b. Use function inside() from part a. to write an expression that tests whether \n",
    "the point (1,1) lies in both of the following rectangles: one with lower left \n",
    "corner (0.3, 0.5) and upper right corner (1.1, 0.7) and the other with lower \n",
    "left corner (0.5, 0.2) and upper right corner (1.1, 2). "
   ]
  },
  {
   "cell_type": "code",
   "execution_count": 30,
   "id": "4af6713d",
   "metadata": {},
   "outputs": [
    {
     "name": "stdout",
     "output_type": "stream",
     "text": [
      "point is not lies in rectangle \n"
     ]
    }
   ],
   "source": [
    "if __name__ == \"__main__\" :\n",
    "    x1 , y1 , x2 , y2 =0.3,0.5,1.1,0.7\n",
    "    x,y=1,1\n",
    "    if inside(x,y,x1,y1,x2,y2):\n",
    "        print(\"point is lies in rectangle\")\n",
    "    else:\n",
    "        print(\"point is not lies in rectangle \")"
   ]
  },
  {
   "cell_type": "code",
   "execution_count": 31,
   "id": "8af27aab",
   "metadata": {},
   "outputs": [
    {
     "name": "stdout",
     "output_type": "stream",
     "text": [
      "point is lies in rectangle\n"
     ]
    }
   ],
   "source": [
    "if __name__ == \"__main__\" :\n",
    "    x1 , y1 , x2 , y2 =0.5,0.2,1.1,2\n",
    "    x,y=1,1\n",
    "    if inside(x,y,x1,y1,x2,y2):\n",
    "        print(\"point is lies in rectangle\")\n",
    "    else:\n",
    "        print(\"point is not lies in rectangle \")"
   ]
  },
  {
   "cell_type": "markdown",
   "id": "448e92d0",
   "metadata": {},
   "source": [
    "Question 6 Python\n",
    "You can turn a word into pig-Latin using the following two rules (simplified):\n",
    "• If the word starts with a consonant, move that letter to the end and append \n",
    "'ay'. For example, 'happy' becomes 'appyhay' and 'pencil' becomes 'encilpay'.\n",
    "• If the word starts with a vowel, simply append 'way' to the end of the word. \n",
    "For example, 'enter' becomes 'enterway' and 'other' becomes 'otherway' . For \n",
    "our purposes, there are 5 vowels: a, e, i, o, u (so we count y as a consonant).\n",
    "Write a function pig() that takes a word (i.e., a string) as input and returns its pig\u0002Latin form. Your function should still work if the input word contains upper case \n",
    "characters. Your output should always be lower case however"
   ]
  },
  {
   "cell_type": "code",
   "execution_count": 15,
   "id": "324ea3c8",
   "metadata": {},
   "outputs": [],
   "source": [
    "def pig(s):\n",
    "    lst=['a','e','i','o','u','A','E','I','O','U']\n",
    "    \n",
    "    if s[0] in lst:\n",
    "        word = s + 'way'\n",
    "        return (word)\n",
    "    else:\n",
    "        word =s[1:]+s[0]+'ay'\n",
    "        return (word)"
   ]
  },
  {
   "cell_type": "code",
   "execution_count": 16,
   "id": "7b96ceef",
   "metadata": {},
   "outputs": [
    {
     "data": {
      "text/plain": [
       "'appyhay'"
      ]
     },
     "execution_count": 16,
     "metadata": {},
     "output_type": "execute_result"
    }
   ],
   "source": [
    "pig('happy')"
   ]
  },
  {
   "cell_type": "code",
   "execution_count": 17,
   "id": "0dc5406b",
   "metadata": {},
   "outputs": [
    {
     "data": {
      "text/plain": [
       "'enterway'"
      ]
     },
     "execution_count": 17,
     "metadata": {},
     "output_type": "execute_result"
    }
   ],
   "source": [
    "pig('enter')"
   ]
  },
  {
   "cell_type": "markdown",
   "id": "091258bb",
   "metadata": {},
   "source": [
    "Question 7 Python\n",
    "File bloodtype1.txt records blood-types of patients (A, B, AB, O or OO) at a clinic. \n",
    "Write a function bldcount() that reads the file with name name and reports (i.e., \n",
    "prints) how many patients there are in each bloodtype."
   ]
  },
  {
   "cell_type": "code",
   "execution_count": 32,
   "id": "76479954",
   "metadata": {
    "scrolled": true
   },
   "outputs": [
    {
     "name": "stdout",
     "output_type": "stream",
     "text": [
      "There are 14 patients of blood type A.\n",
      "There are 1 patients of blood type B.\n",
      "There are 12 patients of blood type AB.\n",
      "There are 15 patients of blood type O.\n",
      "There are 0 patients of blood type OO.\n"
     ]
    }
   ],
   "source": [
    "def bldCount(FileName):\n",
    "    fileopen = open(FileName)\n",
    "    content = fileopen.read()\n",
    "    l = list(content.split(\" \"))\n",
    "    print(\"There are\",l.count('A'), \"patients of blood type A.\" )\n",
    "    print(\"There are\",l.count('B'), \"patients of blood type B.\" )\n",
    "    print(\"There are\",l.count('AB'), \"patients of blood type AB.\" )\n",
    "    print(\"There are\",l.count('O'), \"patients of blood type O.\" )\n",
    "    print(\"There are\",l.count('OO'), \"patients of blood type OO.\" )\n",
    "bldCount(\"bloodtype.txt\")"
   ]
  },
  {
   "cell_type": "markdown",
   "id": "9767cdcc",
   "metadata": {},
   "source": [
    "Question 8 Python\n",
    "Write a function curconv() that takes as input:\n",
    "1. a currency represented using a string (e.g., 'JPY' for the Japanese Yen or \n",
    "'EUR' for the Euro)\n",
    "2. an amount\n",
    "and then converts and returns the amount in US dollars."
   ]
  },
  {
   "cell_type": "code",
   "execution_count": 3,
   "id": "b6eef976",
   "metadata": {},
   "outputs": [],
   "source": [
    "def curconv(curcode,Amount):\n",
    "    fileopen = open(\"currenciesNew.txt\")\n",
    "    content = fileopen.read()\n",
    "    l = list(content.split(\"\\n\"))\n",
    "    l1 = []\n",
    "    for i in range(len(l)):\n",
    "        string = l[i]\n",
    "        l1.append(string.split(\"\\t\"))\n",
    "    d1={}\n",
    "    for i in range(len(l1)):\n",
    "        d1[l1[i][0]]=l1[i][1]\n",
    "    curprice = d1.get(curcode)\n",
    "    print (float(curprice)*Amount)"
   ]
  },
  {
   "cell_type": "code",
   "execution_count": 4,
   "id": "7ee92c51",
   "metadata": {},
   "outputs": [
    {
     "name": "stdout",
     "output_type": "stream",
     "text": [
      "1.241401\n"
     ]
    }
   ],
   "source": [
    "curconv('JPY', 100)"
   ]
  },
  {
   "cell_type": "code",
   "execution_count": 6,
   "id": "7b5a3879",
   "metadata": {},
   "outputs": [
    {
     "name": "stdout",
     "output_type": "stream",
     "text": [
      "122.96544\n"
     ]
    }
   ],
   "source": [
    "curconv('EUR', 100)"
   ]
  },
  {
   "cell_type": "markdown",
   "id": "8d06f752",
   "metadata": {},
   "source": [
    "Answers 9\n",
    "i. Trying to add incompatible variables, as in adding 6 + ‘a’ Ans- TypeError: unsupported operand type(s) for +: 'int' and 'str'\n",
    "\n",
    "ii. Referring to the 12th item of a list that has only 10 items Ans- IndexError: list index out of range\n",
    "\n",
    "iii. Using a value that is out of range for a function’s input, such as calling math.sqrt(-1.0) Ans- ValueError: math domain error\n",
    "\n",
    "iv. Using an undeclared variable, such as print(x) when x has not been defined Ans- NameError: name 'x' is not defined\n",
    "\n",
    "v. Trying to open a file that does not exist, such as mistyping the file name or looking in the wrong directory Ans- FileNotFoundError: [Errno 2] No such file or directory: 'FileName.txt'"
   ]
  },
  {
   "cell_type": "markdown",
   "id": "4f74e4e5",
   "metadata": {},
   "source": [
    "Question 10 Python\n",
    "Encryption is the process of hiding the meaning of a text by substituting letters in the \n",
    "message with other letters, according to some system. If the process is successful, no \n",
    "one but the intended recipient can understand the encrypted message. Cryptanalysis\n",
    "refers to attempts to undo the encryption, even if some details of the encryption are \n",
    "unknown (for example, if an encrypted message has been intercepted). The first step \n",
    "of cryptanalysis is often to build up a table of letter frequencies in the encrypted text. \n",
    "Assume that the string letters is already defined as \n",
    "'abcdefghijklmnopqrstuvwxyz'. Write a function called frequencies()\n",
    "that takes a string as its only parameter, and returns a list of integers, showing the \n",
    "number of times each character appears in the text. Your function may ignore any \n",
    "characters that are not in letters."
   ]
  },
  {
   "cell_type": "code",
   "execution_count": 34,
   "id": "4477eb55",
   "metadata": {},
   "outputs": [
    {
     "name": "stdout",
     "output_type": "stream",
     "text": [
      "[1, 1, 1, 3, 5, 1, 1, 2, 1, 0, 1, 0, 1, 2, 4, 0, 1, 2, 0, 2, 1, 0, 1, 1, 0, 0]\n",
      "[1, 0, 0, 0, 1, 0, 0, 0, 0, 0, 0, 1, 0, 0, 0, 2, 0, 0, 0, 0, 0, 0, 0, 0, 0, 0]\n"
     ]
    }
   ],
   "source": [
    "def frequencies(S):\n",
    "    s1 = 'abcdefghijklmnopqrstuvwxyz'\n",
    "    l = []\n",
    "    for ch in s1:\n",
    "        l.append(S.count(ch))\n",
    "    print(l)\n",
    "frequencies('The quick red fox got bored and went home.')\n",
    "frequencies('apple')"
   ]
  },
  {
   "cell_type": "code",
   "execution_count": null,
   "id": "6d317cc4",
   "metadata": {},
   "outputs": [],
   "source": []
  }
 ],
 "metadata": {
  "kernelspec": {
   "display_name": "Python 3 (ipykernel)",
   "language": "python",
   "name": "python3"
  },
  "language_info": {
   "codemirror_mode": {
    "name": "ipython",
    "version": 3
   },
   "file_extension": ".py",
   "mimetype": "text/x-python",
   "name": "python",
   "nbconvert_exporter": "python",
   "pygments_lexer": "ipython3",
   "version": "3.9.12"
  }
 },
 "nbformat": 4,
 "nbformat_minor": 5
}
